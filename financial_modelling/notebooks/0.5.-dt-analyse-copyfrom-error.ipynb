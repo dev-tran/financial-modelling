{
 "nbformat": 4,
 "nbformat_minor": 2,
 "metadata": {
  "language_info": {
   "name": "python",
   "codemirror_mode": {
    "name": "ipython",
    "version": 3
   },
   "version": "3.8.1-final"
  },
  "orig_nbformat": 2,
  "file_extension": ".py",
  "mimetype": "text/x-python",
  "name": "python",
  "npconvert_exporter": "python",
  "pygments_lexer": "ipython3",
  "version": 3,
  "kernelspec": {
   "name": "python38164bitvenvvenv875be68526234737b72501515f3064ae",
   "display_name": "Python 3.8.1 64-bit ('.venv': venv)"
  }
 },
 "cells": [
  {
   "cell_type": "code",
   "execution_count": 1,
   "metadata": {},
   "outputs": [],
   "source": [
    "import pandas as pd\n",
    "import pathlib"
   ]
  },
  {
   "cell_type": "code",
   "execution_count": 14,
   "metadata": {},
   "outputs": [],
   "source": [
    "fp = pathlib.Path(\"../src/data/test.txt\")\n",
    "columns = [\n",
    "                \"symbol_code\",\n",
    "                \"price_date\",\n",
    "                \"open_price\",\n",
    "                \"high_price\",\n",
    "                \"low_price\",\n",
    "                \"close_price\",\n",
    "                \"adjusted_close_price\",\n",
    "                \"volume\",\n",
    "                \"unadjusted_volume\",\n",
    "                \"price_change\",\n",
    "                \"price_change_percentage\",\n",
    "                \"vwap\",\n",
    "                \"price_date_label\",\n",
    "                \"change_over_time\",\n",
    "            ]\n",
    "df = pd.read_csv(fp, delimiter=\"|\", names=columns)"
   ]
  },
  {
   "cell_type": "code",
   "execution_count": 15,
   "metadata": {},
   "outputs": [
    {
     "data": {
      "text/html": "<div>\n<style scoped>\n    .dataframe tbody tr th:only-of-type {\n        vertical-align: middle;\n    }\n\n    .dataframe tbody tr th {\n        vertical-align: top;\n    }\n\n    .dataframe thead th {\n        text-align: right;\n    }\n</style>\n<table border=\"1\" class=\"dataframe\">\n  <thead>\n    <tr style=\"text-align: right;\">\n      <th></th>\n      <th>symbol_code</th>\n      <th>price_date</th>\n      <th>open_price</th>\n      <th>high_price</th>\n      <th>low_price</th>\n      <th>close_price</th>\n      <th>adjusted_close_price</th>\n      <th>volume</th>\n      <th>unadjusted_volume</th>\n      <th>price_change</th>\n      <th>price_change_percentage</th>\n      <th>vwap</th>\n      <th>price_date_label</th>\n      <th>change_over_time</th>\n    </tr>\n  </thead>\n  <tbody>\n    <tr>\n      <th>0</th>\n      <td>CIZN</td>\n      <td>2000-01-03</td>\n      <td>13.50</td>\n      <td>13.50</td>\n      <td>13.38</td>\n      <td>13.38</td>\n      <td>6.08</td>\n      <td>1500.0</td>\n      <td>1500.0</td>\n      <td>0.12</td>\n      <td>0.889</td>\n      <td>13.42</td>\n      <td>January 03, 00</td>\n      <td>0.00889</td>\n    </tr>\n    <tr>\n      <th>1</th>\n      <td>CIZN</td>\n      <td>2000-01-04</td>\n      <td>13.67</td>\n      <td>13.67</td>\n      <td>13.67</td>\n      <td>13.67</td>\n      <td>6.21</td>\n      <td>300.0</td>\n      <td>300.0</td>\n      <td>0.00</td>\n      <td>0.000</td>\n      <td>13.67</td>\n      <td>January 04, 00</td>\n      <td>0.00000</td>\n    </tr>\n    <tr>\n      <th>2</th>\n      <td>CIZN</td>\n      <td>2000-01-05</td>\n      <td>13.67</td>\n      <td>13.67</td>\n      <td>13.67</td>\n      <td>13.67</td>\n      <td>6.21</td>\n      <td>0.0</td>\n      <td>0.0</td>\n      <td>0.00</td>\n      <td>0.000</td>\n      <td>0.00</td>\n      <td>January 05, 00</td>\n      <td>0.00000</td>\n    </tr>\n    <tr>\n      <th>3</th>\n      <td>CIZN</td>\n      <td>2000-01-06</td>\n      <td>13.67</td>\n      <td>13.67</td>\n      <td>13.67</td>\n      <td>13.67</td>\n      <td>6.21</td>\n      <td>0.0</td>\n      <td>0.0</td>\n      <td>0.00</td>\n      <td>0.000</td>\n      <td>0.00</td>\n      <td>January 06, 00</td>\n      <td>0.00000</td>\n    </tr>\n    <tr>\n      <th>4</th>\n      <td>CIZN</td>\n      <td>2000-01-07</td>\n      <td>13.67</td>\n      <td>13.67</td>\n      <td>13.67</td>\n      <td>13.67</td>\n      <td>6.21</td>\n      <td>0.0</td>\n      <td>0.0</td>\n      <td>0.00</td>\n      <td>0.000</td>\n      <td>0.00</td>\n      <td>January 07, 00</td>\n      <td>0.00000</td>\n    </tr>\n  </tbody>\n</table>\n</div>",
      "text/plain": "  symbol_code  price_date  open_price  high_price  low_price  close_price  \\\n0        CIZN  2000-01-03       13.50       13.50      13.38        13.38   \n1        CIZN  2000-01-04       13.67       13.67      13.67        13.67   \n2        CIZN  2000-01-05       13.67       13.67      13.67        13.67   \n3        CIZN  2000-01-06       13.67       13.67      13.67        13.67   \n4        CIZN  2000-01-07       13.67       13.67      13.67        13.67   \n\n   adjusted_close_price  volume  unadjusted_volume  price_change  \\\n0                  6.08  1500.0             1500.0          0.12   \n1                  6.21   300.0              300.0          0.00   \n2                  6.21     0.0                0.0          0.00   \n3                  6.21     0.0                0.0          0.00   \n4                  6.21     0.0                0.0          0.00   \n\n   price_change_percentage   vwap price_date_label  change_over_time  \n0                    0.889  13.42   January 03, 00           0.00889  \n1                    0.000  13.67   January 04, 00           0.00000  \n2                    0.000   0.00   January 05, 00           0.00000  \n3                    0.000   0.00   January 06, 00           0.00000  \n4                    0.000   0.00   January 07, 00           0.00000  "
     },
     "execution_count": 15,
     "metadata": {},
     "output_type": "execute_result"
    }
   ],
   "source": [
    "df.head()"
   ]
  },
  {
   "cell_type": "code",
   "execution_count": 19,
   "metadata": {},
   "outputs": [
    {
     "data": {
      "text/plain": "38576      NaN\n38577      NaN\n38578      NaN\n38579      NaN\n38580      NaN\n            ..\n29548068   NaN\n29548069   NaN\n29548070   NaN\n29548071   NaN\n29548072   NaN\nName: adjusted_close_price, Length: 1223790, dtype: float64"
     },
     "execution_count": 19,
     "metadata": {},
     "output_type": "execute_result"
    }
   ],
   "source": [
    "df[df[\"adjusted_close_price\"].isnull()][\"adjusted_close_price\"]"
   ]
  },
  {
   "cell_type": "code",
   "execution_count": null,
   "metadata": {},
   "outputs": [],
   "source": []
  }
 ]
}