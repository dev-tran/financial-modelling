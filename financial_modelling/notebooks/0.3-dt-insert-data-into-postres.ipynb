{
 "nbformat": 4,
 "nbformat_minor": 2,
 "metadata": {
  "language_info": {
   "name": "python",
   "codemirror_mode": {
    "name": "ipython",
    "version": 3
   },
   "version": "3.8.1-final"
  },
  "orig_nbformat": 2,
  "file_extension": ".py",
  "mimetype": "text/x-python",
  "name": "python",
  "npconvert_exporter": "python",
  "pygments_lexer": "ipython3",
  "version": 3,
  "kernelspec": {
   "name": "python38164bitvenvvenv875be68526234737b72501515f3064ae",
   "display_name": "Python 3.8.1 64-bit ('.venv': venv)"
  }
 },
 "cells": [
  {
   "cell_type": "code",
   "execution_count": 1,
   "metadata": {},
   "outputs": [],
   "source": [
    "import pandas as pd\n",
    "import psycopg2\n",
    "import json\n",
    "import pathlib\n",
    "import regex\n",
    "import re"
   ]
  },
  {
   "cell_type": "code",
   "execution_count": 2,
   "metadata": {},
   "outputs": [],
   "source": [
    "data_dir = \"../data\"\n",
    "data_folders = [d for d in pathlib.Path(data_dir).iterdir() if d.is_dir()]"
   ]
  },
  {
   "cell_type": "code",
   "execution_count": 3,
   "metadata": {},
   "outputs": [
    {
     "data": {
      "text/plain": "[PosixPath('../data/stock_prices'),\n PosixPath('../data/symbols'),\n PosixPath('../data/profiles')]"
     },
     "execution_count": 3,
     "metadata": {},
     "output_type": "execute_result"
    }
   ],
   "source": [
    "data_folders"
   ]
  },
  {
   "cell_type": "code",
   "execution_count": 118,
   "metadata": {},
   "outputs": [],
   "source": [
    "conn.close()"
   ]
  },
  {
   "cell_type": "code",
   "execution_count": 119,
   "metadata": {},
   "outputs": [],
   "source": [
    "# conn = psycopg2.connect(\"host=localhost dbname=financialmodelling user=financialmodelling_system password=system\")\n",
    "conn = psycopg2.connect(\"host=localhost dbname=financialmodelling user=postgres password=mysecretpassword\")\n",
    "cursor = conn.cursor()"
   ]
  },
  {
   "cell_type": "code",
   "execution_count": 120,
   "metadata": {},
   "outputs": [],
   "source": [
    "# Upload symbols data first\n",
    "profiles = [d for d in data_folders if \"profiles\" in d.stem][0]\n",
    "profiles_files = [fp for fp in profiles.iterdir()]"
   ]
  },
  {
   "cell_type": "code",
   "execution_count": 121,
   "metadata": {},
   "outputs": [],
   "source": [
    "for fp in profiles_files:\n",
    "    with open(fp, \"r\") as f:\n",
    "        data = json.load(f)\n",
    "        values = {\n",
    "            \"symbol_code\": data.get(\"symbol\", \"\"),\n",
    "            \"company_name\": data[\"profile\"].get(\"companyName\", \"\"),\n",
    "            \"exchange_name\": data[\"profile\"].get(\"exchange\", \"\"),\n",
    "            \"industry_name\": data[\"profile\"].get(\"industry\", \"\"),\n",
    "            \"website_link\": data[\"profile\"].get(\"website\", \"\"),\n",
    "            \"company_description\": data[\"profile\"].get(\"description\", \"\"),\n",
    "            \"ceo_name\": data[\"profile\"].get(\"ceo\", \"\"),\n",
    "            \"sector_name\": data[\"profile\"].get(\"sector\", \"\"),\n",
    "            \"company_image\": data[\"profile\"].get(\"image\", \"\"),\n",
    "        }\n",
    "        values = {\n",
    "            k: v for k, v in values.items() if v is not None\n",
    "        }\n",
    "        parsed_values = [\n",
    "            (col, val.replace(\"'\", \"''\")) for col, val in values.items() if len(val) > 0\n",
    "        ]\n",
    "        cols = \",\\n\\t\".join([c[0] for c in parsed_values])\n",
    "        vals = \",\\n\\t\".join([f\"'{c[1]}'\" for c in parsed_values])\n",
    "        sql_template = f\"\"\"\n",
    "        INSERT INTO financialmodelling.dim_symbol (\n",
    "            {cols}\n",
    "        )\n",
    "        VALUES (\n",
    "            {vals}\n",
    "        )\n",
    "        \"\"\"\n",
    "        cursor.execute(sql_template)\n",
    "        conn.commit()"
   ]
  },
  {
   "cell_type": "code",
   "execution_count": 117,
   "metadata": {},
   "outputs": [
    {
     "data": {
      "text/plain": "{'symbol': 'ERYP.PA',\n 'profile': {'price': 6.41,\n  'beta': '1.556717',\n  'volAvg': '59981',\n  'mktCap': '1.16144712E8',\n  'lastDiv': None,\n  'range': '3.4-8.94',\n  'changes': 0.43,\n  'changesPercentage': '(+7.19%)',\n  'companyName': 'ERYTECH Pharma S.A.',\n  'exchange': 'Paris',\n  'industry': 'Biotechnology',\n  'website': 'http://www.erytech.com',\n  'description': \"ERYTECH Pharma S.A., a clinical-stage biopharmaceutical company, develops red blood cell-based therapeutics for severe forms of cancer and orphan diseases. The company's lead product candidate is eryaspase, which is in Phase III clinical development for the treatment of second-line pancreatic cancer and in Phase II stage for the treatment of triple-negative breast cancer. ERYTECH Pharma S.A. has research collaboration with the Fox Chase Cancer Center to advance the preclinical development of erymethionase for the treatment of homocystinuria; and Queen's University of Canada to advance the preclinical development of eryminase for the treatment of arginase-1-deficiency. ERYTECH Pharma S.A. was founded in 2004 and is headquartered in Lyon, France.\",\n  'ceo': None,\n  'sector': 'Healthcare',\n  'image': 'https://financialmodelingprep.com/images-New-jpg/ERYP.PA.jpg'}}"
     },
     "execution_count": 117,
     "metadata": {},
     "output_type": "execute_result"
    }
   ],
   "source": [
    "data"
   ]
  },
  {
   "cell_type": "code",
   "execution_count": null,
   "metadata": {},
   "outputs": [],
   "source": []
  }
 ]
}