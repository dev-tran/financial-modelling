{
 "nbformat": 4,
 "nbformat_minor": 2,
 "metadata": {
  "language_info": {
   "name": "python",
   "codemirror_mode": {
    "name": "ipython",
    "version": 3
   },
   "version": "3.8.1-final"
  },
  "orig_nbformat": 2,
  "file_extension": ".py",
  "mimetype": "text/x-python",
  "name": "python",
  "npconvert_exporter": "python",
  "pygments_lexer": "ipython3",
  "version": 3,
  "kernelspec": {
   "name": "python38164bitvenvvenv875be68526234737b72501515f3064ae",
   "display_name": "Python 3.8.1 64-bit ('.venv': venv)"
  }
 },
 "cells": [
  {
   "cell_type": "code",
   "execution_count": 9,
   "metadata": {},
   "outputs": [],
   "source": [
    "import pathlib\n",
    "import pandas as pd\n",
    "import json"
   ]
  },
  {
   "cell_type": "code",
   "execution_count": 4,
   "metadata": {},
   "outputs": [],
   "source": [
    "dir_path = pathlib.Path(\"../data/symbols\")\n",
    "files = [fp for fp in dir_path.iterdir() if fp.is_file()]"
   ]
  },
  {
   "cell_type": "code",
   "execution_count": 6,
   "metadata": {},
   "outputs": [],
   "source": [
    "with open(files[0], \"r\") as f:\n",
    "    data = json.load(f)"
   ]
  },
  {
   "cell_type": "code",
   "execution_count": 12,
   "metadata": {},
   "outputs": [],
   "source": [
    "df = pd.DataFrame(data[\"symbolsList\"])"
   ]
  },
  {
   "cell_type": "code",
   "execution_count": 13,
   "metadata": {},
   "outputs": [
    {
     "output_type": "execute_result",
     "data": {
      "text/plain": "  symbol                                      name   price  \\\n0    SPY                              SPDR S&P 500  337.42   \n1  CMCSA  Comcast Corporation Class A Common Stock   46.02   \n2    KMI                        Kinder Morgan Inc.   21.81   \n3   INTC                         Intel Corporation   67.46   \n4     MU                    Micron Technology Inc.   59.27   \n\n                  exchange  \n0                NYSE Arca  \n1     Nasdaq Global Select  \n2  New York Stock Exchange  \n3     Nasdaq Global Select  \n4     Nasdaq Global Select  ",
      "text/html": "<div>\n<style scoped>\n    .dataframe tbody tr th:only-of-type {\n        vertical-align: middle;\n    }\n\n    .dataframe tbody tr th {\n        vertical-align: top;\n    }\n\n    .dataframe thead th {\n        text-align: right;\n    }\n</style>\n<table border=\"1\" class=\"dataframe\">\n  <thead>\n    <tr style=\"text-align: right;\">\n      <th></th>\n      <th>symbol</th>\n      <th>name</th>\n      <th>price</th>\n      <th>exchange</th>\n    </tr>\n  </thead>\n  <tbody>\n    <tr>\n      <th>0</th>\n      <td>SPY</td>\n      <td>SPDR S&amp;P 500</td>\n      <td>337.42</td>\n      <td>NYSE Arca</td>\n    </tr>\n    <tr>\n      <th>1</th>\n      <td>CMCSA</td>\n      <td>Comcast Corporation Class A Common Stock</td>\n      <td>46.02</td>\n      <td>Nasdaq Global Select</td>\n    </tr>\n    <tr>\n      <th>2</th>\n      <td>KMI</td>\n      <td>Kinder Morgan Inc.</td>\n      <td>21.81</td>\n      <td>New York Stock Exchange</td>\n    </tr>\n    <tr>\n      <th>3</th>\n      <td>INTC</td>\n      <td>Intel Corporation</td>\n      <td>67.46</td>\n      <td>Nasdaq Global Select</td>\n    </tr>\n    <tr>\n      <th>4</th>\n      <td>MU</td>\n      <td>Micron Technology Inc.</td>\n      <td>59.27</td>\n      <td>Nasdaq Global Select</td>\n    </tr>\n  </tbody>\n</table>\n</div>"
     },
     "metadata": {},
     "execution_count": 13
    }
   ],
   "source": [
    "df.head()"
   ]
  },
  {
   "cell_type": "code",
   "execution_count": 14,
   "metadata": {},
   "outputs": [
    {
     "output_type": "execute_result",
     "data": {
      "text/plain": "Index(['symbol', 'name', 'price', 'exchange'], dtype='object')"
     },
     "metadata": {},
     "execution_count": 14
    }
   ],
   "source": [
    "df.columns"
   ]
  },
  {
   "cell_type": "code",
   "execution_count": 15,
   "metadata": {},
   "outputs": [
    {
     "output_type": "execute_result",
     "data": {
      "text/plain": "symbol       object\nname         object\nprice       float64\nexchange     object\ndtype: object"
     },
     "metadata": {},
     "execution_count": 15
    }
   ],
   "source": [
    "df.dtypes"
   ]
  },
  {
   "cell_type": "code",
   "execution_count": 28,
   "metadata": {},
   "outputs": [
    {
     "output_type": "execute_result",
     "data": {
      "text/plain": "         date   open   high    low  close  adjClose  volume  unadjustedVolume  \\\n0  2000-01-03  13.50  13.50  13.38  13.38      6.08  1500.0            1500.0   \n1  2000-01-04  13.67  13.67  13.67  13.67      6.21   300.0             300.0   \n2  2000-01-05  13.67  13.67  13.67  13.67      6.21     0.0               0.0   \n3  2000-01-06  13.67  13.67  13.67  13.67      6.21     0.0               0.0   \n4  2000-01-07  13.67  13.67  13.67  13.67      6.21     0.0               0.0   \n\n   change  changePercent   vwap           label  changeOverTime  \n0    0.12          0.889  13.42  January 03, 00         0.00889  \n1    0.00          0.000  13.67  January 04, 00         0.00000  \n2    0.00          0.000   0.00  January 05, 00         0.00000  \n3    0.00          0.000   0.00  January 06, 00         0.00000  \n4    0.00          0.000   0.00  January 07, 00         0.00000  ",
      "text/html": "<div>\n<style scoped>\n    .dataframe tbody tr th:only-of-type {\n        vertical-align: middle;\n    }\n\n    .dataframe tbody tr th {\n        vertical-align: top;\n    }\n\n    .dataframe thead th {\n        text-align: right;\n    }\n</style>\n<table border=\"1\" class=\"dataframe\">\n  <thead>\n    <tr style=\"text-align: right;\">\n      <th></th>\n      <th>date</th>\n      <th>open</th>\n      <th>high</th>\n      <th>low</th>\n      <th>close</th>\n      <th>adjClose</th>\n      <th>volume</th>\n      <th>unadjustedVolume</th>\n      <th>change</th>\n      <th>changePercent</th>\n      <th>vwap</th>\n      <th>label</th>\n      <th>changeOverTime</th>\n    </tr>\n  </thead>\n  <tbody>\n    <tr>\n      <th>0</th>\n      <td>2000-01-03</td>\n      <td>13.50</td>\n      <td>13.50</td>\n      <td>13.38</td>\n      <td>13.38</td>\n      <td>6.08</td>\n      <td>1500.0</td>\n      <td>1500.0</td>\n      <td>0.12</td>\n      <td>0.889</td>\n      <td>13.42</td>\n      <td>January 03, 00</td>\n      <td>0.00889</td>\n    </tr>\n    <tr>\n      <th>1</th>\n      <td>2000-01-04</td>\n      <td>13.67</td>\n      <td>13.67</td>\n      <td>13.67</td>\n      <td>13.67</td>\n      <td>6.21</td>\n      <td>300.0</td>\n      <td>300.0</td>\n      <td>0.00</td>\n      <td>0.000</td>\n      <td>13.67</td>\n      <td>January 04, 00</td>\n      <td>0.00000</td>\n    </tr>\n    <tr>\n      <th>2</th>\n      <td>2000-01-05</td>\n      <td>13.67</td>\n      <td>13.67</td>\n      <td>13.67</td>\n      <td>13.67</td>\n      <td>6.21</td>\n      <td>0.0</td>\n      <td>0.0</td>\n      <td>0.00</td>\n      <td>0.000</td>\n      <td>0.00</td>\n      <td>January 05, 00</td>\n      <td>0.00000</td>\n    </tr>\n    <tr>\n      <th>3</th>\n      <td>2000-01-06</td>\n      <td>13.67</td>\n      <td>13.67</td>\n      <td>13.67</td>\n      <td>13.67</td>\n      <td>6.21</td>\n      <td>0.0</td>\n      <td>0.0</td>\n      <td>0.00</td>\n      <td>0.000</td>\n      <td>0.00</td>\n      <td>January 06, 00</td>\n      <td>0.00000</td>\n    </tr>\n    <tr>\n      <th>4</th>\n      <td>2000-01-07</td>\n      <td>13.67</td>\n      <td>13.67</td>\n      <td>13.67</td>\n      <td>13.67</td>\n      <td>6.21</td>\n      <td>0.0</td>\n      <td>0.0</td>\n      <td>0.00</td>\n      <td>0.000</td>\n      <td>0.00</td>\n      <td>January 07, 00</td>\n      <td>0.00000</td>\n    </tr>\n  </tbody>\n</table>\n</div>"
     },
     "metadata": {},
     "execution_count": 28
    }
   ],
   "source": [
    "dir_path = pathlib.Path(\"../data/stock_prices\")\n",
    "files = [fp for fp in dir_path.iterdir() if fp.is_file()]\n",
    "with open(files[0], \"r\") as f:\n",
    "    data = json.load(f)\n",
    "df = pd.DataFrame(data[\"historical\"])\n",
    "df.head()"
   ]
  },
  {
   "cell_type": "code",
   "execution_count": 25,
   "metadata": {},
   "outputs": [
    {
     "output_type": "execute_result",
     "data": {
      "text/plain": "dict_keys(['symbol', 'historical'])"
     },
     "metadata": {},
     "execution_count": 25
    }
   ],
   "source": [
    "data.keys()"
   ]
  },
  {
   "cell_type": "code",
   "execution_count": 27,
   "metadata": {},
   "outputs": [
    {
     "output_type": "execute_result",
     "data": {
      "text/plain": "ent': 0.0,\n  'vwap': 0.0,\n  'label': 'September 11, 03',\n  'changeOverTime': 0.0},\n {'date': '2003-09-12',\n  'open': 17.86,\n  'high': 17.86,\n  'low': 17.86,\n  'close': 17.86,\n  'adjClose': 9.37,\n  'volume': 0.0,\n  'unadjustedVolume': 0.0,\n  'change': 0.0,\n  'changePercent': 0.0,\n  'vwap': 0.0,\n  'label': 'September 12, 03',\n  'changeOverTime': 0.0},\n {'date': '2003-09-15',\n  'open': 17.86,\n  'high': 17.86,\n  'low': 17.86,\n  'close': 17.86,\n  'adjClose': 9.37,\n  'volume': 0.0,\n  'unadjustedVolume': 0.0,\n  'change': 0.0,\n  'changePercent': 0.0,\n  'vwap': 0.0,\n  'label': 'September 15, 03',\n  'changeOverTime': 0.0},\n {'date': '2003-09-16',\n  'open': 18.0,\n  'high': 18.0,\n  'low': 18.0,\n  'close': 18.0,\n  'adjClose': 9.45,\n  'volume': 1000.0,\n  'unadjustedVolume': 1000.0,\n  'change': 0.0,\n  'changePercent': 0.0,\n  'vwap': 18.0,\n  'label': 'September 16, 03',\n  'changeOverTime': 0.0},\n {'date': '2003-09-17',\n  'open': 18.0,\n  'high': 18.0,\n  'low': 18.0,\n  'close': 18.0,\n  'adjClose': 9.45,\n  'volume': 0.0,\n  'unadjustedVolume': 0.0,\n  'change': 0.0,\n  'changePercent': 0.0,\n  'vwap': 0.0,\n  'label': 'September 17, 03',\n  'changeOverTime': 0.0},\n {'date': '2003-09-18',\n  'open': 17.75,\n  'high': 17.75,\n  'low': 17.75,\n  'close': 17.75,\n  'adjClose': 9.32,\n  'volume': 400.0,\n  'unadjustedVolume': 400.0,\n  'change': 0.0,\n  'changePercent': 0.0,\n  'vwap': 17.75,\n  'label': 'September 18, 03',\n  'changeOverTime': 0.0},\n {'date': '2003-09-19',\n  'open': 18.0,\n  'high': 18.0,\n  'low': 18.0,\n  'close': 18.0,\n  'adjClose': 9.45,\n  'volume': 200.0,\n  'unadjustedVolume': 200.0,\n  'change': 0.0,\n  'changePercent': 0.0,\n  'vwap': 18.0,\n  'label': 'September 19, 03',\n  'changeOverTime': 0.0},\n {'date': '2003-09-22',\n  'open': 18.0,\n  'high': 18.0,\n  'low': 18.0,\n  'close': 18.0,\n  'adjClose': 9.45,\n  'volume': 0.0,\n  'unadjustedVolume': 0.0,\n  'change': 0.0,\n  'changePercent': 0.0,\n  'vwap': 0.0,\n  'label': 'September 22, 03',\n  'changeOverTime': 0.0},\n {'date': '2003-09-23',\n  'open': 18.0,\n  'high': 18.0,\n  'low': 18.0,\n  'close': 18.0,\n  'adjClose': 9.45,\n  'volume': 0.0,\n  'unadjustedVolume': 0.0,\n  'change': 0.0,\n  'changePercent': 0.0,\n  'vwap': 0.0,\n  'label': 'September 23, 03',\n  'changeOverTime': 0.0},\n {'date': '2003-09-24',\n  'open': 18.0,\n  'high': 18.0,\n  'low': 18.0,\n  'close': 18.0,\n  'adjClose': 9.45,\n  'volume': 0.0,\n  'unadjustedVolume': 0.0,\n  'change': 0.0,\n  'changePercent': 0.0,\n  'vwap': 0.0,\n  'label': 'September 24, 03',\n  'changeOverTime': 0.0},\n {'date': '2003-09-25',\n  'open': 17.85,\n  'high': 17.85,\n  'low': 17.85,\n  'close': 17.85,\n  'adjClose': 9.37,\n  'volume': 200.0,\n  'unadjustedVolume': 200.0,\n  'change': 0.0,\n  'changePercent': 0.0,\n  'vwap': 17.85,\n  'label': 'September 25, 03',\n  'changeOverTime': 0.0},\n {'date': '2003-09-26',\n  'open': 17.85,\n  'high': 17.85,\n  'low': 17.85,\n  'close': 17.85,\n  'adjClose': 9.37,\n  'volume': 0.0,\n  'unadjustedVolume': 0.0,\n  'change': 0.0,\n  'changePercent': 0.0,\n  'vwap': 0.0,\n  'label': 'September 26, 03',\n  'changeOverTime': 0.0},\n {'date': '2003-09-29',\n  'open': 17.98,\n  'high': 17.98,\n  'low': 17.98,\n  'close': 17.98,\n  'adjClose': 9.44,\n  'volume': 100.0,\n  'unadjustedVolume': 100.0,\n  'change': 0.0,\n  'changePercent': 0.0,\n  'vwap': 17.98,\n  'label': 'September 29, 03',\n  'changeOverTime': 0.0},\n {'date': '2003-09-30',\n  'open': 18.0,\n  'high': 19.0,\n  'low': 18.0,\n  'close': 19.0,\n  'adjClose': 9.97,\n  'volume': 2700.0,\n  'unadjustedVolume': 2700.0,\n  'change': -1.0,\n  'changePercent': -5.556,\n  'vwap': 18.66667,\n  'label': 'September 30, 03',\n  'changeOverTime': -0.05556},\n {'date': '2003-10-01',\n  'open': 19.25,\n  'high': 19.25,\n  'low': 19.0,\n  'close': 19.0,\n  'adjClose': 9.97,\n  'volume': 600.0,\n  'unadjustedVolume': 600.0,\n  'change': 0.25,\n  'changePercent': 1.299,\n  'vwap': 19.08333,\n  'label': 'October 01, 03',\n  'changeOverTime': 0.01299},\n {'date': '2003-10-02',\n  'open': 19.1,\n  'high': 19.1,\n  'low': 19.0,\n  'close': 19.0,\n  'adjClose': 9.97,\n  'volume': 1100.0,\n  'unadjustedVolume': 1100.0,\n  'change': 0.1,\n  'changePercent': 0.524,\n  'vwap': 19.03333,\n  'label': 'October 02, 03',\n  'changeOverTime': 0.00524},\n {'date': '2003-10-03',\n  'open': 19.05,\n  'high': 19.05,\n  'low': 19.05,\n  'close': 19.05,\n  'adjClose': 10.0,\n  'volume': 200.0,\n  'unadjustedVolume': 200.0,\n  'change': 0.0,\n  'changePercent': 0.0,\n  'vwap': 19.05,\n  'label': 'October 03, 03',\n  'changeOverTime': 0.0},\n {'date': '2003-10-06',\n  'open': 19.05,\n  'high': 19.05,\n  'low': 19.05,\n  'close': 19.05,\n  'adjClose': 10.0,\n  'volume': 0.0,\n  'unadjustedVolume': 0.0,\n  'change': 0.0,\n  'changePercent': 0.0,\n  'vwap': 0.0,\n  'label': 'October 06, 03',\n  'changeOverTime': 0.0},\n {'date': '2003-10-07',\n  'open': 19.05,\n  'high': 19.05,\n  'low': 19.05,\n  'close': 19.05,\n  'adjClose': 10.0,\n  'volume': 0.0,\n  'unadjustedVolume': 0.0,\n  'change': 0.0,\n  'changePercent': 0.0,\n  'vwap': 0.0,\n  'label': 'October 07, 03',\n  'changeOverTime': 0.0},\n {'date': '2003-10-08',\n  'open': 19.25,\n  'high': 19.25,\n  'low': 19.25,\n  'close': 19.25,\n  'adjClose': 10.1,\n  'volume': 200.0,\n  'unadjustedVolume': 200.0,\n  'change': 0.0,\n  'changePercent': 0.0,\n  'vwap': 19.25,\n  'label': 'October 08, 03',\n  'changeOverTime': 0.0},\n {'date': '2003-10-09',\n  'open': 19.26,\n  'high': 19.26,\n  'low': 19.25,\n  'close': 19.25,\n  'adjClose': 10.1,\n  'volume': 200.0,\n  'unadjustedVolume': 200.0,\n  'change': 0.01,\n  'changePercent': 0.052,\n  'vwap': 19.25333,\n  'label': 'October 09, 03',\n  'changeOverTime': 0.00052},\n {'date': '2003-10-10',\n  'open': 19.25,\n  'high': 19.25,\n  'low': 19.25,\n  'close': 19.25,\n  'adjClose': 10.1,\n  'volume': 800.0,\n  'unadjustedVolume': 800.0,\n  'change': 0.0,\n  'changePercent': 0.0,\n  'vwap': 19.25,\n  'label': 'October 10, 03',\n  'changeOverTime': 0.0},\n {'date': '2003-10-13',\n  'open': 19.25,\n  'high': 19.25,\n  'low': 19.25,\n  'close': 19.25,\n  'adjClose': 10.1,\n  'volume': 400.0,\n  'unadjustedVolume': 400.0,\n  'change': 0.0,\n  'changePercent': 0.0,\n  'vwap': 19.25,\n  'label': 'October 13, 03',\n  'changeOverTime': 0.0},\n {'date': '2003-10-14',\n  'open': 19.25,\n  'high': 19.25,\n  'low': 19.25,\n  'close': 19.25,\n  'adjClose': 10.1,\n  'volume': 100.0,\n  'unadjustedVolume': 100.0,\n  'change': 0.0,\n  'changePercent': 0.0,\n  'vwap': 19.25,\n  'label': 'October 14, 03',\n  'changeOverTime': 0.0},\n {'date': '2003-10-15',\n  'open': 19.05,\n  'high': 19.05,\n  'low': 18.96,\n  'close': 18.96,\n  'adjClose': 9.95,\n  'volume': 3000.0,\n  'unadjustedVolume': 3000.0,\n  'change': 0.09,\n  'changePercent': 0.472,\n  'vwap': 18.99,\n  'label': 'October 15, 03',\n  'changeOverTime': 0.00472},\n {'date': '2003-10-16',\n  'open': 18.5,\n  'high': 18.5,\n  'low': 18.5,\n  'close': 18.5,\n  'adjClose': 9.71,\n  'volume': 5900.0,\n  'unadjustedVolume': 5900.0,\n  'change': 0.0,\n  'changePercent': 0.0,\n  'vwap': 18.5,\n  'label': 'October 16, 03',\n  'changeOverTime': 0.0},\n {'date': '2003-10-17',\n  'open': 18.5,\n  'high': 18.5,\n  'low': 18.5,\n  'close': 18.5,\n  'adjClose': 9.71,\n  'volume': 0.0,\n  'unadjustedVolume': 0.0,\n  'change': 0.0,\n  'changePercent': 0.0,\n  'vwap': 0.0,\n  'label': 'October 17, 03',\n  'changeOverTime': 0.0},\n {'date': '2003-10-20',\n  'open': 18.25,\n  'high': 18.25,\n  'low': 18.25,\n  'close': 18.25,\n  'adjClose': 9.58,\n  'volume': 400.0,\n  'unadjustedVolume': 400.0,\n  'change': 0.0,\n  'changePercent': 0.0,\n  'vwap': 18.25,\n  'label': 'October 20, 03',\n  'changeOverTime': 0.0},\n {'date': '2003-10-21',\n  'open': 18.25,\n  'high': 18.25,\n  'low': 18.25,\n  'close': 18.25,\n  'adjClose': 9.58,\n  'volume': 0.0,\n  'unadjustedVolume': 0.0,\n  'change': 0.0,\n  'changePercent': 0.0,\n  'vwap': 0.0,\n  'label': 'October 21, 03',\n  'changeOverTime': 0.0},\n {'date': '2003-10-22',\n  'open': 18.25,\n  'high': 18.25,\n  'low': 18.25,\n  'close': 18.25,\n  'adjClose': 9.58,\n  'volume': 0.0,\n  'unadjustedVolume': 0.0,\n  'change': 0.0,\n  'changePercent': 0.0,\n  'vwap': 0.0,\n  'label': 'October 22, 03',\n  'changeOverTime': 0.0},\n {'date': '2003-10-23',\n  'open': 18.25,\n  'high': 18.25,\n  'low': 18.25,\n  'close': 18.25,\n  'adjClose': 9.58,\n  'volume': 0.0,\n  'unadjustedVolume': 0.0,\n  'change': 0.0,\n  'changePercent': 0.0,\n  'vwap': 0.0,\n  'label': 'October 23, 03',\n  'changeOverTime': 0.0},\n {'date': '2003-10-24',\n  'open': 18.3,\n  'high': 18.3,\n  'low': 18.3,\n  'close': 18.3,\n  'adjClose': 9.6,\n  'volume': 200.0,\n  'unadjustedVolume': 200.0,\n  'change': 0.0,\n  'changePercent': 0.0,\n  'vwap': 18.3,\n  'label': 'October 24, 03',\n  'changeOverTime': 0.0},\n {'date': '2003-10-27',\n  'open': 18.3,\n  'high': 18.3,\n  'low': 18.3,\n  'close': 18.3,\n  'adjClose': 9.6,\n  'volume': 0.0,\n  'unadjustedVolume': 0.0,\n  'change': 0.0,\n  'changePercent': 0.0,\n  'vwap': 0.0,\n  'label': 'October 27, 03',\n  'changeOverTime': 0.0},\n {'date': '2003-10-28',\n  'open': 18.3,\n  'high': 18.3,\n  'low': 18.3,\n  'close': 18.3,\n  'adjClose': 9.6,\n  'volume': 0.0,\n  'unadjustedVolume': 0.0,\n  'change': 0.0,\n  'changePercent': 0.0,\n  'vwap': 0.0,\n  'label': 'October 28, 03',\n  'changeOverTime': 0.0},\n {'date': '2003-10-29',\n  'open': 18.3,\n  'high': 18.3,\n  'low': 18.3,\n  'close': 18.3,\n  'adjClose': 9.6,\n  'volume': 0.0,\n  'unadjustedVolume': 0.0,\n  'change': 0.0,\n  'changePercent': 0.0,\n  'vwap': 0.0,\n  'label': 'October 29, 03',\n  'changeOverTime': 0.0},\n {'date': '2003-10-30',\n  'open': 18.3,\n  'high': 18.65,\n  'low': 18.3,\n  'close': 18.65,\n  'adjClose': 9.79,\n  'volume': 600.0,\n  'unadjustedVolume': 600.0,\n  'change': -0.35,\n  'changePercent': -1.913,\n  'vwap': 18.53333,\n  'label': 'October 30, 03',\n  'changeOverTime': -0.01913},\n {'date': '2003-10-31',\n  'open': 18.55,\n  'high': 18.55,\n  'low': 18.55,\n  'close': 18.55,\n  'adjClose': 9.74,\n  'volume': 100.0,\n  'unadjustedVolume': 100.0,\n  'change': 0.0,\n  'changePercent': 0.0,\n  'vwap': 18.55,\n  'label': 'October 31, 03',\n  'changeOverTime': 0.0},\n {'date': '2003-11-03',\n  'open': 18.55,\n  'high': 18.55,\n  'low': 18.55,\n  'close': 18.55,\n  'adjClose': 9.74,\n  'volume': 0.0,\n  'unadjustedVolume': 0.0,\n  'change': 0.0,\n  'changePercent': 0.0,\n  'vwap': 0.0,\n  'label': 'November 03, 03',\n  'changeOverTime': 0.0},\n {'date': '2003-11-04',\n  'open': 18.55,\n  'high': 18.55,\n  'low': 18.55,\n  'close': 18.55,\n  'adjClose': 9.74,\n  'volume': 0.0,\n  'unadjustedVolume': 0.0,\n  'change': 0.0,\n  'changePercent': 0.0,\n  'vwap': 0.0,\n  'label': 'November 04, 03',\n  'changeOverTime': 0.0},\n {'date': '2003-11-05',\n  'open': 18.55,\n  'high': 18.55,\n  'low': 18.55,\n  'close': 18.55,\n  'adjClose': 9.74,\n  'volume': 0.0,\n  'unadjustedVolume': 0.0,\n  'change': 0.0,\n  'changePercent': 0.0,\n  'vwap': 0.0,\n  'label': 'November 05, 03',\n  'changeOverTime': 0.0},\n {'date': '2003-11-06',\n  'open': 18.55,\n  'high': 18.55,\n  'low': 18.55,\n  'close': 18.55,\n  'adjClose': 9.74,\n  'volume': 0.0,\n  'unadjustedVolume': 0.0,\n  'change': 0.0,\n  'changePercent': 0.0,\n  'vwap': 0.0,\n  'label': 'November 06, 03',\n  'changeOverTime': 0.0},\n {'date': '2003-11-07',\n  'open': 18.55,\n  'high': 18.55,\n  'low': 18.55,\n  'close': 18.55,\n  'adjClose': 9.74,\n  'volume': 0.0,\n  'unadjustedVolume': 0.0,\n  'change': 0.0,\n  'changePercent': 0.0,\n  'vwap': 0.0,\n  'label': 'November 07, 03',\n  'changeOverTime': 0.0},\n {'date': '2003-11-10',\n  'open': 18.7,\n  'high': 18.8,\n  'low': 18.7,\n  'close': 18.8,\n  'adjClose': 9.87,\n  'volume': 1500.0,\n  'unadjustedVolume': 1500.0,\n  'change': -0.1,\n  'changePercent': -0.535,\n  'vwap': 18.76667,\n  'label': 'November 10, 03',\n  'changeOverTime': -0.00535},\n {'date': '2003-11-11',\n  'open': 18.8,\n  'high': 18.8,\n  'low': 18.8,\n  'close': 18.8,\n  'adjClose': 9.87,\n  'volume': 0.0,\n  'unadjustedVolume': 0.0,\n  'change': 0.0,\n  'changePercent': 0.0,\n  'vwap': 0.0,\n  'label': 'November 11, 03',\n  'changeOverTime': 0.0},\n {'date': '2003-11-12',\n  'open': 18.8,\n  'high': 18.8,\n  'low': 18.8,\n  'close': 18.8,\n  'adjClose': 9.87,\n  'volume': 0.0,\n  'unadjustedVolume': 0.0,\n  'change': 0.0,\n  'changePercent': 0.0,\n  'vwap': 0.0,\n  'label': 'November 12, 03',\n  'changeOverTime': 0.0},\n {'date': '2003-11-13',\n  'open': 18.8,\n  'high': 18.8,\n  'low': 18.8,\n  'close': 18.8,\n  'adjClose': 9.87,\n  'volume': 0.0,\n  'unadjustedVolume': 0.0,\n  'change': 0.0,\n  'changePercent': 0.0,\n  'vwap': 0.0,\n  'label': 'November 13, 03',\n  'changeOverTime': 0.0},\n {'date': '2003-11-14',\n  'open': 18.85,\n  'high': 18.85,\n  'low': 18.85,\n  'close': 18.85,\n  'adjClose': 9.89,\n  'volume': 1000.0,\n  'unadjustedVolume': 1000.0,\n  'change': 0.0,\n  'changePercent': 0.0,\n  'vwap': 18.85,\n  'label': 'November 14, 03',\n  'changeOverTime': 0.0},\n {'date': '2003-11-17',\n  'open': 18.5,\n  'high': 18.75,\n  'low': 18.5,\n  'close': 18.75,\n  'adjClose': 9.84,\n  'volume': 1400.0,\n  'unadjustedVolume': 1400.0,\n  'change': -0.25,\n  'changePercent': -1.351,\n  'vwap': 18.66667,\n  'label': 'November 17, 03',\n  'changeOverTime': -0.01351},\n {'date': '2003-11-18',\n  'open': 18.75,\n  'high': 18.75,\n  'low': 18.75,\n  'close': 18.75,\n  'adjClose': 9.84,\n  'volume': 100.0,\n  'unadjustedVolume': 100.0,\n  'change': 0.0,\n  'changePercent': 0.0,\n  'vwap': 18.75,\n  'label': 'November 18, 03',\n  'changeOverTime': 0.0},\n {'date': '2003-11-19',\n  'open': 18.95,\n  'high': 18.95,\n  'low': 18.95,\n  'close': 18.95,\n  'adjClose': 9.95,\n  'volume': 100.0,\n  'unadjustedVolume': 100.0,\n  'change': 0.0,\n  'changePercent': 0.0,\n  'vwap': 18.95,\n  'label': 'November 19, 03',\n  'changeOverTime': 0.0},\n {'date': '2003-11-20',\n  'open': 18.95,\n  'high': 18.95,\n  'low': 18.95,\n  'close': 18.95,\n  'adjClose': 9.95,\n  'volume': 0.0,\n  'unadjustedVolume': 0.0,\n  'change': 0.0,\n  'changePercent': 0.0,\n  'vwap': 0.0,\n  'label': 'November 20, 03',\n  'changeOverTime': 0.0},\n {'date': '2003-11-21',\n  'open': 18.6,\n  'high': 18.75,\n  'low': 18.27,\n  'close': 18.75,\n  'adjClose': 9.84,\n  'volume': 1700.0,\n  'unadjustedVolume': 1700.0,\n  'change': -0.15,\n  'changePercent': -0.806,\n  'vwap': 18.59,\n  'label': 'November 21, 03',\n  'changeOverTime': -0.00806},\n {'date': '2003-11-24',\n  'open': 19.0,\n  'high': 19.0,\n  'low': 19.0,\n  'close': 19.0,\n  'adjClose': 9.97,\n  'volume': 400.0,\n  'unadjustedVolume': 400.0,\n  'change': 0.0,\n  'changePercent': 0.0,\n  'vwap': 19.0,\n  'label': 'November 24, 03',\n  'changeOverTime': 0.0},\n {'date': '2003-11-25',\n  'open': 19.0,\n  'high': 19.0,\n  'low': 19.0,\n  'close': 19.0,\n  'adjClose': 9.97,\n  'volume': 0.0,\n  'unadjustedVolume': 0.0,\n  'change': 0.0,\n  'changePercent': 0.0,\n  'vwap': 0.0,\n  'label': 'November 25, 03',\n  'changeOverTime': 0.0},\n {'date': '2003-11-26',\n  'open': 19.0,\n  'high': 19.25,\n  'low': 19.0,\n  'close': 19.0,\n  'adjClose': 9.97,\n  'volume': 3400.0,\n  'unadjustedVolume': 3400.0,\n  'change': 0.0,\n  'changePercent': 0.0,\n  'vwap': 19.08333,\n  'label': 'November 26, 03',\n  'changeOverTime': 0.0},\n {'date': '2003-11-28',\n  'open': 19.0,\n  'high': 19.0,\n  'low': 19.0,\n  'close': 19.0,\n  'adjClose': 9.97,\n  'volume': 0.0,\n  'unadjustedVolume': 0.0,\n  'change': 0.0,\n  'changePercent': 0.0,\n  'vwap': 0.0,\n  'label': 'November 28, 03',\n  'changeOverTime': 0.0},\n {'date': '2003-12-01',\n  'open': 19.2,\n  'high': 19.2,\n  'low': 19.2,\n  'close': 19.2,\n  'adjClose': 10.08,\n  'volume': 300.0,\n  'unadjustedVolume': 300.0,\n  'change': 0.0,\n  'changePercent': 0.0,\n  'vwap': 19.2,\n  'label': 'December 01, 03',\n  'changeOverTime': 0.0},\n {'date': '2003-12-02',\n  'open': 19.0,\n  'high': 19.0,\n  'low': 19.0,\n  'close': 19.0,\n  'adjClose': 9.97,\n  'volume': 300.0,\n  'unadjustedVolume': 300.0,\n  'change': 0.0,\n  'changePercent': 0.0,\n  'vwap': 19.0,\n  'label': 'December 02, 03',\n  'changeOverTime': 0.0},\n {'date': '2003-12-03',\n  'open': 18.75,\n  'high': 18.75,\n  'low': 18.75,\n  'close': 18.75,\n  'adjClose': 9.84,\n  'volume': 100.0,\n  'unadjustedVolume': 100.0,\n  'change': 0.0,\n  'changePercent': 0.0,\n  'vwap': 18.75,\n  'label': 'December 03, 03',\n  'changeOverTime': 0.0},\n {'date': '2003-12-04',\n  'open': 19.0,\n  'high': 19.0,\n  'low': 19.0,\n  'close': 19.0,\n  'adjClose': 9.97,\n  'volume': 100.0,\n  'unadjustedVolume': 100.0,\n  'change': 0.0,\n  'changePercent': 0.0,\n  'vwap': 19.0,\n  'label': 'December 04, 03',\n  'changeOverTime': 0.0},\n {'date': '2003-12-05',\n  'open': 19.0,\n  'high': 19.0,\n  'low': 19.0,\n  'close': 19.0,\n  'adjClose': 9.97,\n  'volume': 0.0,\n  'unadjustedVolume': 0.0,\n  'change': 0.0,\n  'changePercent': 0.0,\n  'vwap': 0.0,\n  'label': 'December 05, 03',\n  'changeOverTime': 0.0},\n {'date': '2003-12-08',\n  'open': 19.5,\n  'high': 19.5,\n  'low': 19.5,\n  'close': 19.5,\n  'adjClose': 10.23,\n  'volume': 1500.0,\n  'unadjustedVolume': 1500.0,\n  'change': 0.0,\n  'changePercent': 0.0,\n  'vwap': 19.5,\n  'label': 'December 08, 03',\n  'changeOverTime': 0.0},\n {'date': '2003-12-09',\n  'open': 19.75,\n  'high': 20.5,\n  'low': 19.75,\n  'close': 20.25,\n  'adjClose': 10.63,\n  'volume': 4200.0,\n  'unadjustedVolume': 4200.0,\n  'change': -0.5,\n  'changePercent': -2.532,\n  'vwap': 20.16667,\n  'label': 'December 09, 03',\n  'changeOverTime': -0.02532},\n {'date': '2003-12-10',\n  'open': 20.25,\n  'high': 20.5,\n  'low': 20.25,\n  'close': 20.3,\n  'adjClose': 10.65,\n  'volume': 1700.0,\n  'unadjustedVolume': 1700.0,\n  'change': -0.05,\n  'changePercent': -0.247,\n  'vwap': 20.35,\n  'label': 'December 10, 03',\n  'changeOverTime': -0.00247},\n {'date': '2003-12-11',\n  'open': 20.3,\n  'high': 20.75,\n  'low': 20.0,\n  'close': 20.75,\n  'adjClose': 10.97,\n  'volume': 4900.0,\n  'unadjustedVolume': 4900.0,\n  'change': -0.45,\n  'changePercent': -2.217,\n  'vwap': 20.5,\n  'label': 'December 11, 03',\n  'changeOverTime': -0.02217},\n {'date': '2003-12-12',\n  'open': 20.75,\n  'high': 20.75,\n  'low': 20.75,\n  'close': 20.75,\n  'adjClose': 10.97,\n  'volume': 0.0,\n  'unadjustedVolume': 0.0,\n  'change': 0.0,\n  'changePercent': 0.0,\n  'vwap': 0.0,\n  'label': 'December 12, 03',\n  'changeOverTime': 0.0},\n {'date': '2003-12-15',\n  'open': 21.25,\n  'high': 22.5,\n  'low': 21.25,\n  'close': 22.0,\n  'adjClose': 11.63,\n  'volume': 2300.0,\n  'unadjustedVolume': 2300.0,\n  'change': -0.75,\n  'changePercent': -3.529,\n  'vwap': 21.91667,\n  'label': 'December 15, 03',\n  'changeOverTime': -0.03529},\n {'date': '2003-12-16',\n  'open': 22.15,\n  'high': 24.75,\n  'low': 22.15,\n  'close': 23.5,\n  'adjClose': 12.43,\n  'volume': 3900.0,\n  'unadjustedVolume': 3900.0,\n  'change': -1.35,\n  'changePercent': -6.095,\n  'vwap': 23.46667,\n  'label': 'December 16, 03',\n  'changeOverTime': -0.06095},\n {'date': '2003-12-17',\n  'open': 23.7,\n  'high': 23.95,\n  'low': 23.0,\n  'close': 23.45,\n  'adjClose': 12.4,\n  'volume': 2300.0,\n  'unadjustedVolume': 2300.0,\n  'change': 0.25,\n  'changePercent': 1.055,\n  'vwap': 23.46667,\n  'label': 'December 17, 03',\n  'changeOverTime': 0.01055},\n {'date': '2003-12-18',\n  'open': 23.45,\n  'high': 23.45,\n  'low': 23.45,\n  'close': 23.45,\n  'adjClose': 12.4,\n  'volume': 0.0,\n  'unadjustedVolume': 0.0,\n  'change': 0.0,\n  'changePercent': 0.0,\n  'vwap': 0.0,\n  'label': 'December 18, 03',\n  'changeOverTime': 0.0},\n {'date': '2003-12-19',\n  'open': 23.3,\n  'high': 23.3,\n  'low': 23.3,\n  'close': 23.3,\n  'adjClose': 12.32,\n  'volume': 100.0,\n  'unadjustedVolume': 100.0,\n  'change': 0.0,\n  'changePercent': 0.0,\n  'vwap': 23.3,\n  'label': 'December 19, 03',\n  'changeOverTime': 0.0},\n {'date': '2003-12-22',\n  'open': 23.26,\n  'high': 23.26,\n  'low': 23.15,\n  'close': 23.15,\n  'adjClose': 12.24,\n  'volume': 1000.0,\n  'unadjustedVolume': 1000.0,\n  'change': 0.11,\n  'changePercent': 0.473,\n  'vwap': 23.18667,\n  'label': 'December 22, 03',\n  'changeOverTime': 0.00473},\n {'date': '2003-12-23',\n  'open': 23.05,\n  'high': 23.5,\n  'low': 23.05,\n  'close': 23.15,\n  'adjClose': 12.24,\n  'volume': 3600.0,\n  'unadjustedVolume': 3600.0,\n  'change': -0.1,\n  'changePercent': -0.434,\n  'vwap': 23.23333,\n  'label': 'December 23, 03',\n  'changeOverTime': -0.00434},\n {'date': '2003-12-24',\n  'open': 23.4,\n  'high': 23.4,\n  'low': 23.0,\n  'close': 23.0,\n  'adjClose': 12.16,\n  'volume': 400.0,\n  'unadjustedVolume': 400.0,\n  'change': 0.4,\n  'changePercent': 1.709,\n  'vwap': 23.13333,\n  'label': 'December 24, 03',\n  'changeOverTime': 0.01709},\n ...]"
     },
     "metadata": {},
     "execution_count": 27
    }
   ],
   "source": [
    "data[\"historical\"]"
   ]
  },
  {
   "cell_type": "code",
   "execution_count": null,
   "metadata": {},
   "outputs": [],
   "source": []
  }
 ]
}